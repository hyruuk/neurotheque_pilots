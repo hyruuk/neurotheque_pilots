{
 "cells": [
  {
   "cell_type": "code",
   "execution_count": 5,
   "metadata": {},
   "outputs": [],
   "source": [
    "# imports\n",
    "import mne\n",
    "import os\n",
    "import os.path as op\n",
    "from mne.preprocessing import ICA\n",
    "from mne.channels import make_standard_montage\n",
    "from autoreject import AutoReject, compute_thresholds\n",
    "import numpy as np\n",
    "import gdown\n",
    "import logging\n",
    "import matplotlib.pyplot as plt\n"
   ]
  },
  {
   "cell_type": "markdown",
   "metadata": {},
   "source": [
    "### Load the data"
   ]
  },
  {
   "cell_type": "code",
   "execution_count": null,
   "metadata": {},
   "outputs": [],
   "source": [
    "\n",
    "folderpath = r'../data/pilot_data/'\n",
    "filename = 'sub-01_ses-001_raw.edf'\n",
    "filepath = op.join(folderpath, filename)\n",
    "\n",
    "if '.edf' in filename:\n",
    "    # Load the raw data\n",
    "    raw = mne.io.read_raw_edf(filepath, preload=True, stim_channel='Trigger')\n",
    "\n",
    "    ## Do some preparation steps\n",
    "    # Get all channel names\n",
    "    channel_names = raw.info['ch_names']\n",
    "    print(\"Channel Names:\", channel_names)\n",
    "    \n",
    "    # Define non-EEG channels to exclude\n",
    "    non_eeg_channels = ['EEG X1:ECG-Pz', 'EEG X2:-Pz', 'EEG X3:-Pz', 'CM', 'EEG A1-Pz', 'EEG A2-Pz']\n",
    "    # Check which non-EEG channels are present\n",
    "    existing_non_eeg = [ch for ch in non_eeg_channels if ch in channel_names]\n",
    "    print(\"Non-EEG Channels to Exclude:\", existing_non_eeg)\n",
    "    # Drop non-EEG channels\n",
    "    raw.drop_channels(existing_non_eeg)\n",
    "    print(\"Channels after exclusion:\", raw.info['ch_names'])\n",
    "\n",
    "    # Identify EEG channels\n",
    "    eeg_channels = [ch for ch in raw.info['ch_names'] if 'EEG' in ch]\n",
    "    print(\"EEG Channels Before Renaming:\", eeg_channels)\n",
    "    # Create a mapping by removing 'EEG ' prefix and '-Pz' suffix\n",
    "    rename_mapping = {ch: ch.replace('EEG ', '').replace('-Pz', '') for ch in eeg_channels}\n",
    "    print(\"Rename Mapping:\", rename_mapping)\n",
    "    # Rename channels\n",
    "    raw.rename_channels(rename_mapping)\n",
    "    print(\"EEG Channels After Renaming:\", [ch for ch in raw.info['ch_names'] if ch in rename_mapping.values()])\n",
    "\n",
    "    # Set channel types\n",
    "    for ch in raw.info['ch_names']:\n",
    "        if ch in rename_mapping.values():\n",
    "            raw.set_channel_types({ch: 'eeg'})\n",
    "        elif 'Trigger' in ch:\n",
    "            raw.set_channel_types({ch: 'stim'})\n",
    "        else:\n",
    "            raw.set_channel_types({ch: 'misc'})  # For any other channels, if any remain\n",
    "    print(\"Channel Types:\", raw.get_channel_types())\n",
    "    # Apply standard 10-20 montage\n",
    "    montage = make_standard_montage('standard_1020')\n",
    "    raw.set_montage(montage)\n",
    "    print(raw.info['dig'])\n",
    "\n",
    "\n",
    "elif '.fif' in filename:\n",
    "    # do something else\n",
    "    print(filepath)\n",
    "    "
   ]
  },
  {
   "cell_type": "markdown",
   "metadata": {},
   "source": [
    "### Clean the data"
   ]
  },
  {
   "cell_type": "code",
   "execution_count": null,
   "metadata": {},
   "outputs": [],
   "source": [
    "## Filter\n",
    "# Apply band-pass filter from 0.5 Hz to 100 Hz\n",
    "raw_filtered = raw.copy().filter(l_freq=1, h_freq=100, fir_design='firwin')\n",
    "# Apply notch filter at 60 Hz\n",
    "raw_filtered.notch_filter(freqs=[60,120], fir_design='firwin')\n",
    "\n",
    "## Dummy segment for autoreject\n",
    "# Create fake events\n",
    "events_for_autoreject = mne.make_fixed_length_events(raw, duration=1)\n",
    "# Segment\n",
    "epochs_for_autoreject = mne.Epochs(raw, events_for_autoreject, tmin=0, tmax=1, baseline=None, detrend=0, preload=True)\n",
    "\n",
    "## Autoreject\n",
    "# Initialize autoreject\n",
    "ar = AutoReject()\n",
    "# Fit autoreject\n",
    "ar.fit(epochs_for_autoreject)\n",
    "\n",
    "# Obtain list of bad epochs\n",
    "ar_log = ar.get_reject_log(epochs_for_autoreject)\n",
    "print(ar_log)\n",
    "\n"
   ]
  },
  {
   "cell_type": "code",
   "execution_count": null,
   "metadata": {},
   "outputs": [],
   "source": [
    "## Run ICA on clean data\n",
    "ica = ICA(n_components=0.95, \n",
    "            random_state=0).fit(epochs_for_autoreject[~ar_log.bad_epochs], decim=3)\n",
    "ica.plot_sources(raw_filtered, show=True)\n",
    "ica.plot_components(title='ICA Components', show=True);"
   ]
  },
  {
   "cell_type": "code",
   "execution_count": null,
   "metadata": {},
   "outputs": [],
   "source": [
    "## Identify bad components\n",
    "bad_components_indices = [1,2,3]  # Replace with actual bad components. Here, I identified the first component (IC000) as bad.\n",
    "ica.exclude = bad_components_indices\n",
    "print(\"Bad components:\", bad_components_indices)\n",
    "\n",
    "## Reconstruct data without bad components\n",
    "raw_corrected = raw_filtered.copy()\n",
    "ica.apply(raw_corrected)\n",
    "\n",
    "\n",
    "## Rerun autoreject\n",
    "# Initialize AutoReject with continuous mode\n",
    "#ar = AutoReject(thresh_func='bayesian_optimization', n_jobs=-1)\n",
    "\n",
    "# Fit and transform the raw data\n",
    "#raw_clean = ar.fit_transform(raw_corrected)"
   ]
  },
  {
   "cell_type": "markdown",
   "metadata": {},
   "source": [
    "### Inspect the data"
   ]
  },
  {
   "cell_type": "code",
   "execution_count": null,
   "metadata": {},
   "outputs": [],
   "source": [
    "raw.plot_psd(average=False, show=True)"
   ]
  },
  {
   "cell_type": "code",
   "execution_count": null,
   "metadata": {},
   "outputs": [],
   "source": [
    "raw_filtered.plot_psd(average=False, show=True)"
   ]
  },
  {
   "cell_type": "code",
   "execution_count": null,
   "metadata": {},
   "outputs": [],
   "source": [
    "raw_corrected.plot_psd(average=False, show=True)"
   ]
  },
  {
   "cell_type": "code",
   "execution_count": null,
   "metadata": {},
   "outputs": [],
   "source": [
    "raw_corrected.save(op.join(folderpath, filename.replace('.edf', '_preprocessed.fif')), overwrite=True)"
   ]
  },
  {
   "cell_type": "markdown",
   "metadata": {},
   "source": [
    "# Identify Task Periods"
   ]
  },
  {
   "cell_type": "code",
   "execution_count": 19,
   "metadata": {},
   "outputs": [
    {
     "name": "stdout",
     "output_type": "stream",
     "text": [
      "Opening raw data file ../data/pilot_data/sub-01_ses-001_raw_preprocessed.fif...\n"
     ]
    },
    {
     "name": "stdout",
     "output_type": "stream",
     "text": [
      "    Range : 0 ... 1135799 =      0.000 ...  3785.997 secs\n",
      "Ready.\n",
      "Reading 0 ... 1135799  =      0.000 ...  3785.997 secs...\n"
     ]
    },
    {
     "name": "stderr",
     "output_type": "stream",
     "text": [
      "C:\\Users\\s\\AppData\\Local\\Temp\\ipykernel_29644\\4072925450.py:4: RuntimeWarning: This filename (../data/pilot_data/sub-01_ses-001_raw_preprocessed.fif) does not conform to MNE naming conventions. All raw files should end with raw.fif, raw_sss.fif, raw_tsss.fif, _meg.fif, _eeg.fif, _ieeg.fif, raw.fif.gz, raw_sss.fif.gz, raw_tsss.fif.gz, _meg.fif.gz, _eeg.fif.gz or _ieeg.fif.gz\n",
      "  raw = mne.io.read_raw_fif(filepath, preload=True)\n"
     ]
    },
    {
     "name": "stdout",
     "output_type": "stream",
     "text": [
      "1509 events found on stim channel Trigger\n",
      "Event IDs: [  1   2   3   4   6   7   8   9  10  11  13  14  15  16  17  18  21  22\n",
      "  23  24  25  26  27  28  30  31  32  34  37  38  39  40  41  44  45  46\n",
      "  47  48  50  51  52  54  64 128]\n",
      "Events: [[  45028       0       6]\n",
      " [  81028       0       7]\n",
      " [  81636       0       2]\n",
      " ...\n",
      " [1109650       0       3]\n",
      " [1118947       0       2]\n",
      " [1128239       0       9]]\n",
      "Overwriting existing file.\n",
      "Writing d:\\Yann\\scrs\\neurotheque_pilots\\..\\data\\pilot_data\\Rest.fif\n",
      "Closing d:\\Yann\\scrs\\neurotheque_pilots\\..\\data\\pilot_data\\Rest.fif\n"
     ]
    },
    {
     "name": "stderr",
     "output_type": "stream",
     "text": [
      "C:\\Users\\s\\AppData\\Local\\Temp\\ipykernel_29644\\4072925450.py:113: RuntimeWarning: This filename (d:\\Yann\\scrs\\neurotheque_pilots\\..\\data\\pilot_data\\Rest.fif) does not conform to MNE naming conventions. All raw files should end with raw.fif, raw_sss.fif, raw_tsss.fif, _meg.fif, _eeg.fif, _ieeg.fif, raw.fif.gz, raw_sss.fif.gz, raw_tsss.fif.gz, _meg.fif.gz, _eeg.fif.gz or _ieeg.fif.gz\n",
      "  rest_raw.save(rest_save_path, overwrite=True)\n"
     ]
    },
    {
     "name": "stdout",
     "output_type": "stream",
     "text": [
      "[done]\n",
      "Overwriting existing file.\n",
      "Writing d:\\Yann\\scrs\\neurotheque_pilots\\..\\data\\pilot_data\\GonoGo.fif\n"
     ]
    },
    {
     "name": "stderr",
     "output_type": "stream",
     "text": [
      "C:\\Users\\s\\AppData\\Local\\Temp\\ipykernel_29644\\4072925450.py:119: RuntimeWarning: This filename (d:\\Yann\\scrs\\neurotheque_pilots\\..\\data\\pilot_data\\GonoGo.fif) does not conform to MNE naming conventions. All raw files should end with raw.fif, raw_sss.fif, raw_tsss.fif, _meg.fif, _eeg.fif, _ieeg.fif, raw.fif.gz, raw_sss.fif.gz, raw_tsss.fif.gz, _meg.fif.gz, _eeg.fif.gz or _ieeg.fif.gz\n",
      "  gonogo_raw.save(gonogo_save_path, overwrite=True)\n"
     ]
    },
    {
     "name": "stdout",
     "output_type": "stream",
     "text": [
      "Closing d:\\Yann\\scrs\\neurotheque_pilots\\..\\data\\pilot_data\\GonoGo.fif\n",
      "[done]\n",
      "Overwriting existing file.\n",
      "Writing d:\\Yann\\scrs\\neurotheque_pilots\\..\\data\\pilot_data\\LandoitC.fif\n",
      "Closing d:\\Yann\\scrs\\neurotheque_pilots\\..\\data\\pilot_data\\LandoitC.fif\n"
     ]
    },
    {
     "name": "stderr",
     "output_type": "stream",
     "text": [
      "C:\\Users\\s\\AppData\\Local\\Temp\\ipykernel_29644\\4072925450.py:125: RuntimeWarning: This filename (d:\\Yann\\scrs\\neurotheque_pilots\\..\\data\\pilot_data\\LandoitC.fif) does not conform to MNE naming conventions. All raw files should end with raw.fif, raw_sss.fif, raw_tsss.fif, _meg.fif, _eeg.fif, _ieeg.fif, raw.fif.gz, raw_sss.fif.gz, raw_tsss.fif.gz, _meg.fif.gz, _eeg.fif.gz or _ieeg.fif.gz\n",
      "  landoitc_raw.save(landoitc_save_path, overwrite=True)\n"
     ]
    },
    {
     "name": "stdout",
     "output_type": "stream",
     "text": [
      "[done]\n",
      "Overwriting existing file.\n",
      "Writing d:\\Yann\\scrs\\neurotheque_pilots\\..\\data\\pilot_data\\MentalImagery.fif\n",
      "Closing d:\\Yann\\scrs\\neurotheque_pilots\\..\\data\\pilot_data\\MentalImagery.fif\n"
     ]
    },
    {
     "name": "stderr",
     "output_type": "stream",
     "text": [
      "C:\\Users\\s\\AppData\\Local\\Temp\\ipykernel_29644\\4072925450.py:131: RuntimeWarning: This filename (d:\\Yann\\scrs\\neurotheque_pilots\\..\\data\\pilot_data\\MentalImagery.fif) does not conform to MNE naming conventions. All raw files should end with raw.fif, raw_sss.fif, raw_tsss.fif, _meg.fif, _eeg.fif, _ieeg.fif, raw.fif.gz, raw_sss.fif.gz, raw_tsss.fif.gz, _meg.fif.gz, _eeg.fif.gz or _ieeg.fif.gz\n",
      "  mentalimagery_raw.save(mentalimagery_save_path, overwrite=True)\n"
     ]
    },
    {
     "name": "stdout",
     "output_type": "stream",
     "text": [
      "[done]\n"
     ]
    }
   ],
   "source": [
    "\n",
    "folderpath = r'../data/pilot_data/'\n",
    "filename = 'sub-01_ses-001_raw_preprocessed.fif'\n",
    "filepath = op.join(folderpath, filename)\n",
    "raw = mne.io.read_raw_fif(filepath, preload=True)\n",
    "events = mne.find_events(raw, stim_channel='Trigger', min_duration=0.001, consecutive=False)\n",
    "print(\"Events:\", events)\n",
    "\n",
    "# Initialize variables to track task periods\n",
    "task_periods = {\n",
    "    'Rest_GoNoGo': {'start': None, 'end': None},\n",
    "    'GoNoGo': {'start': None, 'end': None},\n",
    "    'LandoitC': {'start': None, 'end': None},\n",
    "    'MentalImagery': {'start': None, 'end': None}\n",
    "}\n",
    "# Function to convert time (minutes) to samples\n",
    "def minutes_to_samples(minutes, sfreq):\n",
    "    return int(minutes * 60 * sfreq)\n",
    "\n",
    "# Find all triggers and their sample indices\n",
    "trigger_dict = {}\n",
    "for event in events:\n",
    "    sample, _, trigger = event\n",
    "    if trigger not in trigger_dict:\n",
    "        trigger_dict[trigger] = []\n",
    "    trigger_dict[trigger].append(sample)\n",
    "    \n",
    "    \n",
    "# Define Rest_GoNoGo: first Rest start (6) to Rest end (7)\n",
    "if 6 in trigger_dict and 7 in trigger_dict:\n",
    "    rest_start = trigger_dict[6][0]\n",
    "    rest_end = trigger_dict[7][0]\n",
    "    task_periods['Rest_GoNoGo']['start'] = rest_start\n",
    "    task_periods['Rest_GoNoGo']['end'] = rest_end\n",
    "    logging.info(f\"Rest_GoNoGo: Start={rest_start}, End={rest_end}\")\n",
    "else:\n",
    "    logging.error(\"Rest (GoNoGo) triggers 6 and/or 7 not found.\")\n",
    "    raise ValueError(\"Missing Rest (GoNoGo) triggers.\")\n",
    "\n",
    "# Define GoNoGo Task: first GoNoGo start (8) to GoNoGo end (9)\n",
    "if 8 in trigger_dict and 9 in trigger_dict:\n",
    "    gonogo_start = trigger_dict[7][0]\n",
    "    gonogo_end = trigger_dict[9][0]\n",
    "    task_periods['GoNoGo']['start'] = gonogo_start\n",
    "    task_periods['GoNoGo']['end'] = gonogo_end\n",
    "    logging.info(f\"GoNoGo: Start={gonogo_start}, End={gonogo_end}\")\n",
    "else:\n",
    "    logging.error(\"GoNoGo triggers 8 and/or 9 not found.\")\n",
    "    raise ValueError(\"Missing GoNoGo triggers.\")\n",
    "\n",
    "# 6.3 Define Mental Imagery Task: second GoNoGo start (8) to second GoNoGo end (9)\n",
    "# Assuming triggers 8 and 9 occur twice: first for GoNoGo, second for Mental Imagery\n",
    "if len(trigger_dict.get(8, [])) >= 2 and len(trigger_dict.get(9, [])) >= 2:\n",
    "    mental_imagery_start = trigger_dict[8][-1]\n",
    "    mental_imagery_end = trigger_dict[9][-1]\n",
    "    task_periods['MentalImagery']['start'] = mental_imagery_start\n",
    "    task_periods['MentalImagery']['end'] = mental_imagery_end\n",
    "    logging.info(f\"MentalImagery: Start={mental_imagery_start}, End={mental_imagery_end}\")\n",
    "else:\n",
    "    logging.error(\"Mental Imagery triggers 8 and/or 9 not found.\")\n",
    "    raise ValueError(\"Missing Mental Imagery triggers.\")\n",
    "\n",
    "sfreq = raw.info['sfreq']\n",
    "# Calculate Landoit-C Task start and end\n",
    "if 'Rest_GoNoGo' in task_periods and task_periods['Rest_GoNoGo']['end']:\n",
    "    # Start: 1 minute after GoNoGo end (9)\n",
    "    start = task_periods['GoNoGo']['end'] + minutes_to_samples(14, sfreq)\n",
    "        # Find all occurrences of trigger 6\n",
    "    rest_starts = trigger_dict.get(6, [])\n",
    "    if len(rest_starts) >= 2:\n",
    "        # Second Rest start corresponds to Mental Imagery task\n",
    "        mental_imagery_rest_start = rest_starts[-1]\n",
    "        end = mental_imagery_rest_start - minutes_to_samples(1, sfreq)\n",
    "        task_periods['LandoitC']['start'] = start\n",
    "        task_periods['LandoitC']['end'] = end\n",
    "        logging.info(f\"LandoitC: Start={start}, End={end}\")\n",
    "    else:\n",
    "        logging.error(\"Second Rest start trigger (6) for Mental Imagery task not found.\")\n",
    "        raise ValueError(\"Missing Mental Imagery Rest start trigger.\")\n",
    "else:\n",
    "    logging.error(\"Cannot define LandoitC Task due to missing Rest_GoNoGo task periods.\")\n",
    "    raise ValueError(\"Missing Rest_GoNoGo task periods.\")\n",
    "\n",
    "\n",
    "\n",
    "\n",
    "# Extract Rest period as a Raw object\n",
    "rest_period = task_periods['Rest_GoNoGo']\n",
    "rest_start_time = rest_period['start'] / sfreq  # Convert samples to seconds\n",
    "rest_end_time = rest_period['end'] / sfreq\n",
    "rest_raw = raw.copy().crop(tmin=rest_start_time, tmax=rest_end_time)\n",
    "\n",
    "# Extract go/ no go period\n",
    "gonogo_period = task_periods['GoNoGo']\n",
    "gonogo_start_time = gonogo_period['start'] / sfreq  # Convert samples to seconds\n",
    "gonogo_end_time = gonogo_period['end'] / sfreq\n",
    "gonogo_raw = raw.copy().crop(tmin=gonogo_start_time, tmax=gonogo_end_time)\n",
    "\n",
    "# Extract Landoit-C period\n",
    "landoitc_period = task_periods['LandoitC']\n",
    "landoitc_start_time = landoitc_period['start'] / sfreq  # Convert samples to seconds\n",
    "landoitc_end_time = landoitc_period['end'] / sfreq\n",
    "landoitc_raw = raw.copy().crop(tmin=landoitc_start_time, tmax=landoitc_end_time)\n",
    "\n",
    "# Extract mental imagery period\n",
    "mentalimagery_period = task_periods['MentalImagery']\n",
    "mentalimagery_start_time = mentalimagery_period['start'] / sfreq  # Convert samples to seconds\n",
    "mentalimagery_end_time = mentalimagery_period['end'] / sfreq\n",
    "mentalimagery_raw = raw.copy().crop(tmin=mentalimagery_start_time, tmax=mentalimagery_end_time)\n",
    "\n",
    "# Save Rest period as Raw FIF file\n",
    "pilot_data_folder = r'../data/pilot_data/'\n",
    "rest_save_path = op.join(pilot_data_folder, 'Rest.fif')\n",
    "rest_raw.save(rest_save_path, overwrite=True)\n",
    "logging.info(f\"Saved Rest period as raw FIF file: {rest_save_path}\")\n",
    "\n",
    "# Save GonoGo period as Raw FIF file\n",
    "pilot_data_folder = r'../data/pilot_data/'\n",
    "gonogo_save_path = op.join(pilot_data_folder, 'GonoGo.fif')\n",
    "gonogo_raw.save(gonogo_save_path, overwrite=True)\n",
    "logging.info(f\"Saved Rest period as raw FIF file: {gonogo_save_path}\")\n",
    "\n",
    "# Save Landoit-C period as Raw FIF file\n",
    "pilot_data_folder = r'../data/pilot_data/'\n",
    "landoitc_save_path = op.join(pilot_data_folder, 'LandoitC.fif')\n",
    "landoitc_raw.save(landoitc_save_path, overwrite=True)\n",
    "logging.info(f\"Saved Rest period as raw FIF file: {landoitc_save_path}\")\n",
    "\n",
    "# Save Mental Imagery period as Raw FIF file\n",
    "pilot_data_folder = r'../data/pilot_data/'\n",
    "mentalimagery_save_path = op.join(pilot_data_folder, 'MentalImagery.fif')\n",
    "mentalimagery_raw.save(mentalimagery_save_path, overwrite=True)\n",
    "logging.info(f\"Saved Rest period as raw FIF file: {mentalimagery_save_path}\")\n",
    "\n"
   ]
  },
  {
   "cell_type": "code",
   "execution_count": null,
   "metadata": {},
   "outputs": [
    {
     "data": {
      "text/plain": [
       "<mne_qt_browser._pg_figure.MNEQtBrowser at 0x20d2a30d510>"
      ]
     },
     "execution_count": 20,
     "metadata": {},
     "output_type": "execute_result"
    },
    {
     "name": "stdout",
     "output_type": "stream",
     "text": [
      "Channels marked as bad:\n",
      "none\n"
     ]
    }
   ],
   "source": [
    "landoitc_raw.plot()"
   ]
  },
  {
   "cell_type": "code",
   "execution_count": null,
   "metadata": {},
   "outputs": [],
   "source": []
  },
  {
   "cell_type": "code",
   "execution_count": null,
   "metadata": {},
   "outputs": [],
   "source": []
  }
 ],
 "metadata": {
  "kernelspec": {
   "display_name": "eeg_analysis",
   "language": "python",
   "name": "python3"
  },
  "language_info": {
   "codemirror_mode": {
    "name": "ipython",
    "version": 3
   },
   "file_extension": ".py",
   "mimetype": "text/x-python",
   "name": "python",
   "nbconvert_exporter": "python",
   "pygments_lexer": "ipython3",
   "version": "3.10.15"
  }
 },
 "nbformat": 4,
 "nbformat_minor": 2
}
